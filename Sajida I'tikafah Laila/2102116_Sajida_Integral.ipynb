{
 "cells": [
  {
   "attachments": {},
   "cell_type": "markdown",
   "metadata": {},
   "source": [
    "# **Integral**"
   ]
  },
  {
   "attachments": {},
   "cell_type": "markdown",
   "metadata": {},
   "source": [
    "**2102116- Sajida I'tikafah Laila - Pilkom A 2021**"
   ]
  },
  {
   "attachments": {},
   "cell_type": "markdown",
   "metadata": {},
   "source": [
    "**Metode Simpson's**"
   ]
  },
  {
   "cell_type": "code",
   "execution_count": null,
   "metadata": {},
   "outputs": [],
   "source": [
    "import numpy as np\n",
    "import matplotlib.pyplot as plt\n",
    "\n",
    "e = 2.718\n",
    "z = str(input(\"Masukan Fungsi: \"))\n",
    "batasBawah = float(input(\"Masukan Batas Bawah: \"))\n",
    "batasAtas = float(input(\"Masukan Batas Atas: \"))\n",
    "sub_interval = int(input(\"Masukan Banyak Partisi: \"))\n",
    "\n",
    "def f(n): #fungsi yang berfungsi untuk mengembalikan nilai dari f(x)\n",
    "    temp = eval(z)\n",
    "    \n",
    "    return temp\n",
    "\n",
    "# metode simpson\n",
    "def simpson13(x0,xn,n):\n",
    "    #menghitung setiap langkah\n",
    "    h = (xn - x0) / n # mencari jarak interval antar titik (delta x)\n",
    "    \n",
    "    for i in range(n+1): \n",
    "         \n",
    "        k = x0 + i*h \n",
    "        if i == 0:\n",
    "            integration = f(x0)\n",
    "            \n",
    "        elif i == n:\n",
    "            integration = integration + f(xn)\n",
    "            \n",
    "        elif i%2 == 0:\n",
    "            integration = integration + 2 * f(k)\n",
    "            \n",
    "        elif i%2 == 1:\n",
    "            integration = integration + 4 * f(k)\n",
    "        print (integration)\n",
    "        \n",
    "    #  Nilai akhir integrasi dari metode simpson\n",
    "    integration = integration * h/3\n",
    "    \n",
    "    return integration\n",
    "    \n",
    "\n",
    "# Print hasil\n",
    "result = simpson13(batasBawah, batasAtas, sub_interval)\n",
    "print(\"Nilai integrasi metode simpson : %0.6f\"%(result))"
   ]
  },
  {
   "attachments": {},
   "cell_type": "markdown",
   "metadata": {},
   "source": [
    "**Metode Trapesium**"
   ]
  },
  {
   "cell_type": "code",
   "execution_count": null,
   "metadata": {},
   "outputs": [],
   "source": [
    "import numpy as np\n",
    "import matplotlib.pyplot as plt\n",
    "\n",
    "e= 2.71828\n",
    "def f(x):\n",
    "    pepega = eval(fx)\n",
    "    return pepega\n",
    "\n",
    "# Implementasi algoritma trapesium\n",
    "def trapezoidal(a,b,n):\n",
    "    h = (b - a) / n\n",
    "    integration = f(a)+f(b)\n",
    "    for i in range(1,n):\n",
    "        k = a + i*h\n",
    "        integration = integration+ 2 * f(k)\n",
    "    integration = integration * h/2\n",
    "    return integration\n",
    "    \n",
    "# Input value fungsi, batas bawah & atas, jumlah iterasi\n",
    "fx = str(input(\"Masukan nilai persamaan fungsinya : \"))\n",
    "a = float(input(\"Masukkan nilai untuk batas bawah: \"))\n",
    "b = float(input(\"Masukkan nilai untuk batas atas: \"))\n",
    "n = int(input(\"Masukkan banyaknya iterasi: \"))\n",
    "\n",
    "# Menampilkan hasil dan panggil struktur fungsi\n",
    "result = trapezoidal(a, b, n)\n",
    "print(\"Nilai integrasi metode trapesium: %0.6f\" % (result))\n"
   ]
  }
 ],
 "metadata": {
  "kernelspec": {
   "display_name": "Python 3",
   "language": "python",
   "name": "python3"
  },
  "language_info": {
   "name": "python",
   "version": "3.10.9 (tags/v3.10.9:1dd9be6, Dec  6 2022, 20:01:21) [MSC v.1934 64 bit (AMD64)]"
  },
  "orig_nbformat": 4,
  "vscode": {
   "interpreter": {
    "hash": "66f804da07f0f556d77bc3269dc5bb19edf020422864031af2885e5ff55f9079"
   }
  }
 },
 "nbformat": 4,
 "nbformat_minor": 2
}
