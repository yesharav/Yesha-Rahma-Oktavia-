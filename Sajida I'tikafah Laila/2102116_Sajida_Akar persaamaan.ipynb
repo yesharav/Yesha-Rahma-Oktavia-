{
 "cells": [
  {
   "attachments": {},
   "cell_type": "markdown",
   "metadata": {},
   "source": [
    "## **Akar Persamaan**"
   ]
  },
  {
   "attachments": {},
   "cell_type": "markdown",
   "metadata": {},
   "source": [
    "**2102116- Sajida I'tikafah Laila - Pilkom A 2021**"
   ]
  },
  {
   "attachments": {},
   "cell_type": "markdown",
   "metadata": {},
   "source": [
    "# **Latihan**"
   ]
  },
  {
   "attachments": {},
   "cell_type": "markdown",
   "metadata": {},
   "source": [
    "**No 1**\n",
    "Buatlah sebuah fungsi penyelesaian yang tepat baik dengan menggunakan metode Bagi Dua maupun Newton Raphson ketika \n",
    "\n",
    "a. f(x) = x^3 - 2x + 1\n",
    "\n",
    "b. f(x) = e^x - x\n",
    "\n",
    "**No 2**\n",
    "\n",
    "Buatlah modifikasi fungsi ketika kriteria program berhenti adalah sudah mencapai pada iterasi ke-n baik untuk Bagi Dua maupun Newton Raphson"
   ]
  },
  {
   "cell_type": "code",
   "execution_count": null,
   "metadata": {},
   "outputs": [],
   "source": [
    "# Metode Bisection\n",
    "\n",
    "from cmath import e\n",
    "from tkinter import E\n",
    "\n",
    "def f(x): #define fungsi f(x)\n",
    "    return x**3-2*x+1 \n",
    "\n",
    "def bagidua(a,b,e): \n",
    "    step = 1\n",
    "    print('\\n\\n=== Metode Bagi Dua ===')\n",
    "    condition = True \n",
    "    \n",
    "    while condition:\n",
    "        c = (a + b)/2\n",
    "        print('Iterasi ke-%d, c = %0.6f dan f(c) = %0.6f' % (step, c, f(c)))\n",
    "\n",
    "        #menentukan nilai c menggantikan a atau b\n",
    "        if f(a) * f(c) < 0:  \n",
    "            b = c\n",
    "        else:\n",
    "            a = c\n",
    "        \n",
    "        step = step + 1 \n",
    "        condition = abs(f(c)) > e\n",
    "\n",
    "    print('\\nRequired Root is : %0.8f' % c) \n",
    "\n",
    "# bagian menginput data \n",
    "a = input('Tebakan Pertama: ')\n",
    "b = input('Tebakan Kedua: ')\n",
    "e = input('Toleransi Error: ')\n",
    "\n",
    "# konversi input menjadi float \n",
    "a = float(a)\n",
    "b = float(b)\n",
    "e = float(e)\n",
    "\n",
    "#mengecek tebakan nilai diawal dan membagi dua nilainya\n",
    "if f(a) * f(b) > 0.0:\n",
    "    print('Coba dengan perkiraan value yang lain!')\n",
    "else:\n",
    "    bagidua(a,b,e)\n",
    "\n",
    "\n",
    "#Metode Newton Raphson \n",
    "def f(x): #mendefinisikan fungsi f(x)\n",
    "    return x**3 - 2*x + 1\n",
    "\n",
    "def g(x): #mendefinisikan fungsi g(x) yang merupakan turunan dari f(x)\n",
    "    return 3*x**2 - 2\n",
    "\n",
    "\n",
    "def newtonRaphson(x0,e,N):\n",
    "    print('\\n\\n=== Metode Newton Raphson ===')\n",
    "    step = 1\n",
    "    flag = 1\n",
    "    condition = True\n",
    "    while condition:\n",
    "        if g(x0) == 0.0: \n",
    "            print('Turunan tidak boleh = 0')\n",
    "            break\n",
    "        \n",
    "        x1 = x0 - f(x0)/g(x0) \n",
    "        print('Iterasi ke-%d, x1 = %0.6f dan f(x1) = %0.6f' % (step, x1, f(x1))) \n",
    "        x0 = x1\n",
    "        step = step + 1 \n",
    "        \n",
    "        if step > N:\n",
    "            flag = 0\n",
    "            break\n",
    "        \n",
    "        condition = abs(f(x1)) > e\n",
    "    \n",
    "    if flag==1:\n",
    "        print('\\nRequired root is: %0.8f' % x1)\n",
    "    else:\n",
    "        print('\\nNot Convergent.')\n",
    "\n",
    "\n",
    "#bagian menginput data\n",
    "x0 = input('Masukan Guess: ')\n",
    "e = input('Toleransi Error: ')\n",
    "N = input('Maximum Iterasi: ')\n",
    "\n",
    "#mengkonversi input ke float dan/atau int \n",
    "x0 = float(x0)\n",
    "e = float(e)\n",
    "N = int(N)\n",
    "\n",
    "newtonRaphson(x0,e,N) "
   ]
  }
 ],
 "metadata": {
  "kernelspec": {
   "display_name": "Python 3",
   "language": "python",
   "name": "python3"
  },
  "language_info": {
   "name": "python",
   "version": "3.10.9 (tags/v3.10.9:1dd9be6, Dec  6 2022, 20:01:21) [MSC v.1934 64 bit (AMD64)]"
  },
  "orig_nbformat": 4,
  "vscode": {
   "interpreter": {
    "hash": "01920046622f56d88f3fed013994a769148a73da698d4ed3ec5e66e5f06c7df4"
   }
  }
 },
 "nbformat": 4,
 "nbformat_minor": 2
}
