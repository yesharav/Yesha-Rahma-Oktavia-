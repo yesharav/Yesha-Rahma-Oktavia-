{
 "cells": [
  {
   "attachments": {},
   "cell_type": "markdown",
   "metadata": {},
   "source": [
    "# **SISTEM PERSAMAAN LINIER**"
   ]
  },
  {
   "attachments": {},
   "cell_type": "markdown",
   "metadata": {},
   "source": [
    "**2102116- Sajida I'tikafah Laila - Pilkom A 2021**"
   ]
  },
  {
   "attachments": {},
   "cell_type": "markdown",
   "metadata": {},
   "source": [
    "**Gauss Jordan**"
   ]
  },
  {
   "cell_type": "code",
   "execution_count": null,
   "metadata": {},
   "outputs": [],
   "source": [
    "import numpy as np\n",
    "import sys\n",
    "\n",
    "\n",
    "n = int(input('Masukkan Jumlah variabel: '))\n",
    "\n",
    "a = np.zeros((n,n+1))\n",
    "x = np.zeros(n)\n",
    "\n",
    "print('Masukkan nilai:')\n",
    "for i in range(n): \n",
    "    for j in range(n+1): \n",
    "        a[i][j] = float(input( 'a['+str(i)+']['+ str(j)+']='))\n",
    "\n",
    "\n",
    "print (\"\\nMatriks persamaan:\")\n",
    "print (a)\n",
    "\n",
    "#Rumus Gauss Jordan \n",
    "for i in range(n):\n",
    "    if a[i][i] == 0:\n",
    "        sys.exit('Terdapat nilai 0 pada diagonal utama!')\n",
    "        \n",
    "    for j in range(n):\n",
    "        if i != j:\n",
    "            ratio = a[j][i]/a[i][i]\n",
    "\n",
    "            for k in range(n+1):\n",
    "                a[j][k] = a[j][k] - ratio * a[i][k] \n",
    "\n",
    "for i in range(n):\n",
    "    x[i] = a[i][n]/a[i][i]\n",
    "\n",
    "print('\\nSolusi SPL: ')\n",
    "for i in range(n):\n",
    "    print('X%d = %0.2f' %(i,x[i]), end = '\\t')"
   ]
  }
 ],
 "metadata": {
  "kernelspec": {
   "display_name": "Python 3",
   "language": "python",
   "name": "python3"
  },
  "language_info": {
   "name": "python",
   "version": "3.10.9 (tags/v3.10.9:1dd9be6, Dec  6 2022, 20:01:21) [MSC v.1934 64 bit (AMD64)]"
  },
  "orig_nbformat": 4,
  "vscode": {
   "interpreter": {
    "hash": "66f804da07f0f556d77bc3269dc5bb19edf020422864031af2885e5ff55f9079"
   }
  }
 },
 "nbformat": 4,
 "nbformat_minor": 2
}
